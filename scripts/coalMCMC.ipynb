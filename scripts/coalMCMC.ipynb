{
 "cells": [
  {
   "cell_type": "code",
   "execution_count": 141,
   "metadata": {},
   "outputs": [],
   "source": [
    "'''\n",
    "MCMC esimtate of Ne from simulated coal tree\n",
    "from CTreeAnalysis (github)\n",
    "Jose Manuel Agüero Trejo\n",
    "Modified using Bio.Phylo\n",
    "Also, getting coal intervals using node depths instead of heights\n",
    "'''\n",
    "import numpy\n",
    "import math\n",
    "from scipy.stats import lognorm\n",
    "import matplotlib.pyplot as plt\n",
    "from Bio import Phylo\n",
    "import numpy as np\n",
    "\n",
    "# height: distance to tip\n",
    "# depth: distance to root\n",
    "#max_height = 502\n",
    "def internal_nodes_heights(node,nodes_heights, depth):\n",
    "    if not node.is_terminal():\n",
    "#        if node.name != 'root':\n",
    "#        depth_to_root = list(node.depths().values())[0]\n",
    "#        height = total_height - depth_to_root\n",
    "#        print(node.name + \"\\t\" + str(depth[node]))\n",
    "#        nodes_heights.append(list(node.depths().values())[0])\n",
    "        nodes_heights.append(depth[node])\n",
    "        for child in node: # direct subclades\n",
    "            internal_nodes_heights(child,nodes_heights, depth)\n",
    "\n",
    "def mcmc(tree, max_steps, chain):\n",
    "#    global dict_depth\n",
    "#    sub_tree = tree.\n",
    "    dict_depth = tree.depths()\n",
    "    tmrc_depth = tree.branch_length\n",
    "    for node in dict_depth:\n",
    "        dict_depth[node] -= tmrc_depth\n",
    "    ne = 100\n",
    "    #generate list of times with k linages\n",
    "    time_linage = list()\n",
    "    time_interval = list()\n",
    "    internal_nodes_heights(tree.root,time_linage, dict_depth) \n",
    "#    print(time_linage)\n",
    "    time_linage.append(0)\n",
    "    time_linage.sort()\n",
    "#    print(time_linage)\n",
    "    time_interval.append(0)\n",
    "#    print(time_interval)\n",
    "    for i in range(1,len(time_linage)):\n",
    "#        print(i, end=\"\\t\")\n",
    "#        print(time_linage[i-1], end=\"\\t\")\n",
    "#        print(time_linage[i])\n",
    "#        time_linage[i] = time_linage[i] - time_linage[i-1] # waiting time between coal events, exponential\n",
    "        time_interval.append(time_linage[i] - time_linage[i-1]) # waiting time between coal events, exponential\n",
    "    del time_interval[0]\n",
    "#    del time_linage[-1]\n",
    "#    time_interval.reverse()\n",
    "#    time_interval.reverse()\n",
    "#    print(time_interval)\n",
    "    for i in range(max_steps):\n",
    "        u = np.random.uniform(-10,10) #random step\n",
    "        ne2 = ne + u\n",
    "        if(ne2 > 0): #handle by rejectioon\n",
    "            likelihood1 = 0\n",
    "            likelihood2 = 0\n",
    "            #generate log of the prior probability densities\n",
    "            prior1 = lognorm.logpdf(ne, s = 1.25,scale=np.exp(3)) \n",
    "            prior2 = lognorm.logpdf(ne2, s = 1.25,scale=np.exp(3)) \n",
    "            for k in range(2,len(tree.get_terminals())):  #time interval with k linages\n",
    "                tk = time_interval[k-2]\n",
    "                b = (k*(k-1)*tk)/(2*ne)\n",
    "                c = (k*(k-1)*tk)/(2*ne2)\n",
    "                #compute the coalescent likelihood\n",
    "                likelihood1 += (-np.log(ne) - b) \n",
    "                likelihood2 += (-np.log(ne2) - c)\n",
    "            #obtain posterior distributions\n",
    "            post1 = likelihood1 + (prior1) \n",
    "            post2 = likelihood2 + (prior2)\n",
    "            post = post2 - post1\n",
    "            #compute acceptance probability\n",
    "            if post > -800 and post < 700: #handle overflow by reject large values\n",
    "                a = min(1,np.exp(post))\n",
    "                v = np.random.uniform(0,1)\n",
    "                if(a > v):\n",
    "                    ne = ne2\n",
    "        chain.append(ne) #add to MCMC chain\n",
    "\n",
    "#chain = list()\n",
    "chain1 = list() \n",
    "chain2 = list() \n",
    "chain3 = list() \n",
    "\n",
    "#tree1 = Phylo.read(\"../cov2/wright-fisher-sim/neut.dnd\", \"newick\")\n",
    "tree1 = Phylo.read(\"../cov2/wright-fisher-sim/test-p200-g500-run-1st/neut.dnd\", \"newick\")\n",
    "tree2 = Phylo.read(\"../cov2/wright-fisher-sim/test-p200-g500-run-1st/bkg.dnd\", \"newick\")\n",
    "tree3 = Phylo.read(\"../cov2/wright-fisher-sim/test-p200-g500-run-1st/adpt.dnd\", \"newick\")\n",
    "\n",
    "# getting subtrees\n",
    "tmrc_nodes1 = tree1.find_clades('co_1')\n",
    "tmrc1 = next(tmrc_nodes1)\n",
    "tmrc_nodes2 = tree2.find_clades('co_1')\n",
    "tmrc2 = next(tmrc_nodes2)\n",
    "tmrc_nodes3 = tree3.find_clades('co_1')\n",
    "tmrc3 = next(tmrc_nodes3)\n",
    "\n",
    "#Phylo.draw_ascii(tree3)\n",
    "max_steps = 10000\n",
    "#tmrc_nodes = tree.find_clades('co_1')\n",
    "#tmrc = next(tmrc_nodes)\n",
    "#print(tmrc.branch_length)\n",
    "#tmrc = tmrc_nodes[0]\n",
    "#dict_height = tmrc.depths()\n",
    "#print(dict_height)\n",
    "#dict_depth1 = tree1.depths()\n",
    "#dict_depth2 = tree1.depths()\n",
    "#dict_depth3 = tree1.depths()\n",
    "\n",
    "#dict_height = {}\n",
    "#for node in dict_depth:\n",
    "#    dict_height[node] = max_height - dict_depth[node]\n",
    "#print(dict_height)\n",
    "#for node in dict_depth:\n",
    "#    print(node, end = \"\\t\")\n",
    "#    print(dict_depth[node], end = \"\\t\")\n",
    "#    print(max_height - dict_depth[node])\n",
    "#mcmc(tree,max_steps,chain) #generate MCMC chain\n",
    "#print(tree.depths())\n",
    "#plot histograms\n",
    "\n",
    "#tree2 = Phylo.read(\"../cov2/wright-fisher-sim/bkg.dnd\", \"newick\")\n",
    "#tree3 = Phylo.read(\"../cov2/wright-fisher-sim/adpt.dnd\", \"newick\")\n",
    "\n",
    "# run mcmc\n",
    "priors = np.random.lognormal(3,1.25,10000)\n",
    "mcmc(tmrc, max_steps, chain) #generate MCMC chain\n",
    "mcmc(tmrc1, max_steps, chain1) #generate MCMC chain\n",
    "mcmc(tmrc2, max_steps, chain2) #generate MCMC chain\n",
    "mcmc(tmrc3, max_steps, chain3) #generate MCMC chain\n"
   ]
  },
  {
   "cell_type": "code",
   "execution_count": 148,
   "metadata": {},
   "outputs": [
    {
     "data": {
      "image/png": "[encoded data removed]",
      "text/plain": [
       "<Figure size 792x576 with 3 Axes>"
      ]
     },
     "metadata": {
      "needs_background": "light"
     },
     "output_type": "display_data"
    }
   ],
   "source": [
    "# make plots\n",
    "fig, axs = plt.subplots(3)\n",
    "\n",
    "plt.xlabel(\"Ne\")\n",
    "axs[0].set_xlim(0, 500)\n",
    "axs[1].set_xlim(0, 500)\n",
    "axs[2].set_xlim(0, 500)\n",
    "\n",
    "\n",
    "axs[0].set_title('Neutral')\n",
    "axs[1].set_title('Bkg Selection')\n",
    "axs[2].set_title('Adaptive')\n",
    "    \n",
    "axs[0].hist(chain1[5000:], label = \"Posterior distribution\",bins = \"auto\")\n",
    "axs[0].hist(priors, label = \"Prior distribution\",bins = \"auto\")\n",
    "#axs[0].vlines(200, 0, 1250)\n",
    "axs[0].legend(loc = 'upper right')\n",
    "\n",
    "axs[1].hist(chain2[5000:], label = \"Posterior distribution\",bins = \"auto\")\n",
    "axs[1].hist(priors, label = \"Prior distribution\",bins = \"auto\")\n",
    "#axs[1].vlines(200, 0, 1250)\n",
    "axs[1].legend(loc = 'upper right')\n",
    "\n",
    "axs[2].hist(chain3[5000:], label = \"Posterior distribution\",bins = \"auto\")\n",
    "axs[2].hist(priors, label = \"Prior distribution\",bins = \"auto\")\n",
    "#axs[2].vlines(200, 0, 1250)\n",
    "axs[2].legend(loc = 'upper right')\n",
    "\n",
    "fig = plt.gcf()\n",
    "fig.set_size_inches(11,8)\n",
    "#fig.show()\n",
    "fig.savefig('mcmc.png', bbox_inches='tight')"
   ]
  },
  {
   "cell_type": "code",
   "execution_count": 128,
   "metadata": {},
   "outputs": [
    {
     "data": {
      "text/plain": [
       "(0.0, 1000.0)"
      ]
     },
     "execution_count": 128,
     "metadata": {},
     "output_type": "execute_result"
    },
    {
     "data": {
      "image/png": "[encoded data removed]",
      "text/plain": [
       "<Figure size 432x288 with 1 Axes>"
      ]
     },
     "metadata": {
      "needs_background": "light"
     },
     "output_type": "display_data"
    }
   ],
   "source": [
    "plt.hist(chain, label = \"Posterior distribution\",bins = \"auto\")\n",
    "plt.hist(priors, label = \"Prior distribution\",bins = \"auto\")\n",
    "plt.legend(loc = 'upper right')\n",
    "plt.xlim(0,1000)"
   ]
  },
  {
   "cell_type": "code",
   "execution_count": null,
   "metadata": {},
   "outputs": [],
   "source": []
  }
 ],
 "metadata": {
  "kernelspec": {
   "display_name": "Python 3",
   "language": "python",
   "name": "python3"
  },
  "language_info": {
   "codemirror_mode": {
    "name": "ipython",
    "version": 3
   },
   "file_extension": ".py",
   "mimetype": "text/x-python",
   "name": "python",
   "nbconvert_exporter": "python",
   "pygments_lexer": "ipython3",
   "version": "3.6.10"
  }
 },
 "nbformat": 4,
 "nbformat_minor": 4
}
